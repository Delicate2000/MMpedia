{
 "cells": [
  {
   "cell_type": "code",
   "execution_count": null,
   "id": "916d17bb",
   "metadata": {
    "scrolled": true
   },
   "outputs": [],
   "source": [
    "from SPARQLWrapper import SPARQLWrapper, JSON\n",
    "import multiprocessing\n",
    "from multiprocessing.dummy import Pool as ThreadPool\n",
    "from functools import partial\n",
    "import time\n",
    "import json\n",
    "\n",
    "import subprocess\n",
    "from subprocess import PIPE, Popen\n",
    "import os\n",
    "from tqdm import tqdm\n",
    "\n",
    "word2type = {}\n",
    "def worker(entity_name, i):\n",
    "    global word2type\n",
    "    entity_name = entity_name\n",
    "    sparql = SPARQLWrapper(\"http://dbpedia.org/sparql\")\n",
    "    query2 = '''\n",
    "    SELECT ?object \n",
    "    WHERE {dbr:''' + entity_name.replace('(','\\(').replace(')','\\)').replace('*','\\*').replace(',','\\,') + '''  rdf:type  ?object }'''\n",
    "\n",
    "    sparql.setQuery(query2)  # the previous query as a literal string\n",
    "    sparql.setReturnFormat(JSON)\n",
    "\n",
    "    tmp = sparql.query()\n",
    "    one_res = tmp.convert()\n",
    "\n",
    "    #if one_res['results']['bindings'] == []:\n",
    "\n",
    "    for result in one_res['results']['bindings']:\n",
    "        if 'http://dbpedia.org/ontology/' in  result['object']['value']: \n",
    "            print(result['object']['value'].split('/')[-1]) \n",
    "            return entity_name, result['object']['value'].split('/')[-1]\n",
    "\n",
    "\n",
    "def collectMyResult(result):\n",
    "    global word2type\n",
    "    # if result:\n",
    "    try:\n",
    "        word2type[result[0]] = result[1]\n",
    "            # with open(\"./word2type.json\",\"w\",encoding='utf-8') as f:\n",
    "            #     json.dump(word2type,f)\n",
    "        print(\"Got result {}\".format(result[0]))\n",
    "    except Exception as e:\n",
    "        print('error:', e)\n",
    "def abortable_worker(func, *args, **kwargs):\n",
    "    timeout = 30\n",
    "    p = ThreadPool(1)\n",
    "    res = p.apply_async(func, args=args)\n",
    "    try:\n",
    "        out = res.get(timeout)  # Wait timeout seconds for func to complete.\n",
    "        return out\n",
    "    except multiprocessing.TimeoutError:\n",
    "        print(\"Aborting due to timeout\")\n",
    "        raise\n",
    "\n",
    "if __name__ == \"__main__\":\n",
    "    word2type = {}\n",
    "    with open(\"./need_type.json\",\"r\",encoding='utf-8') as f: # entities need type\n",
    "            need_type = json.load(f)\n",
    "    tic = time.time()\n",
    "    pool = multiprocessing.Pool(processes=24,maxtasksperchild=1)\n",
    "\n",
    "    featureClass = [[need_type[i], i] for i in tqdm(range(0,len(need_type),1))] #list of arguments\n",
    "    for f in featureClass:\n",
    "        abortable_func = partial(abortable_worker, worker, timeout=30)\n",
    "        pool.apply_async(abortable_func, args=f,callback=collectMyResult)\n",
    "    pool.close()\n",
    "    pool.join()\n",
    "    \n",
    "    toc = time.time()\n",
    "    shijian = toc-tic\n",
    "    print(\"time consuming:\",shijian)\n",
    "\n",
    "    with open(\"./word2type.json\",\"w\",encoding='utf-8') as f:\n",
    "            json.dump(word2type,f)\n",
    "    print(len(word2type))"
   ]
  }
 ],
 "metadata": {
  "kernelspec": {
   "display_name": "Python 3",
   "language": "python",
   "name": "python3"
  },
  "language_info": {
   "codemirror_mode": {
    "name": "ipython",
    "version": 3
   },
   "file_extension": ".py",
   "mimetype": "text/x-python",
   "name": "python",
   "nbconvert_exporter": "python",
   "pygments_lexer": "ipython3",
   "version": "3.8.8 (tags/v3.8.8:024d805, Feb 19 2021, 13:18:16) [MSC v.1928 64 bit (AMD64)]"
  },
  "vscode": {
   "interpreter": {
    "hash": "bf59f58f629c67161a6bbd93c7345cacfe400bb9f389cc542d55c09c74d40c18"
   }
  }
 },
 "nbformat": 4,
 "nbformat_minor": 5
}
