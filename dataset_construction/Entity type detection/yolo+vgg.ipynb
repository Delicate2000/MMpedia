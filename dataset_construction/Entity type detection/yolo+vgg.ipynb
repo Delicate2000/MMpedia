{
 "cells": [
  {
   "cell_type": "code",
   "execution_count": null,
   "id": "db92d3db",
   "metadata": {
    "scrolled": true
   },
   "outputs": [],
   "source": [
    "import json"
   ]
  },
  {
   "cell_type": "code",
   "execution_count": null,
   "id": "aa22b613",
   "metadata": {},
   "outputs": [],
   "source": [
    "with open(\"./word2type.json\",\"r\",encoding='utf-8') as f:\n",
    "            word2type = json.load(f)\n",
    "len(word2type)"
   ]
  },
  {
   "cell_type": "code",
   "execution_count": null,
   "id": "6998eb0f",
   "metadata": {},
   "outputs": [],
   "source": [
    "with open(\"./db2vgg.json\",\"r\",encoding='utf-8') as f:\n",
    "        db2vgg = json.load(f)"
   ]
  },
  {
   "cell_type": "code",
   "execution_count": null,
   "id": "48473ea1",
   "metadata": {},
   "outputs": [],
   "source": [
    "with open(\"./yolo2db.json\",\"r\",encoding='utf-8') as f:\n",
    "        yolo2db = json.load(f)"
   ]
  },
  {
   "cell_type": "code",
   "execution_count": null,
   "id": "e6329b8a",
   "metadata": {},
   "outputs": [],
   "source": [
    "with open(\"./words.json\",\"r\",encoding='utf-8') as f:\n",
    "        words= json.load(f)"
   ]
  },
  {
   "cell_type": "code",
   "execution_count": null,
   "id": "f8f834ac",
   "metadata": {},
   "outputs": [],
   "source": [
    "with open(\"./word2files.json\",\"r\",encoding='utf-8') as f:\n",
    "        word2files= json.load(f)\n",
    "len(word2files)"
   ]
  },
  {
   "cell_type": "code",
   "execution_count": null,
   "id": "84786b80",
   "metadata": {},
   "outputs": [],
   "source": [
    "with open(\"./word2clip.json\",\"r\",encoding='utf-8') as f:\n",
    "        word2clip= json.load(f)\n",
    "len(word2clip)"
   ]
  },
  {
   "cell_type": "code",
   "execution_count": null,
   "id": "0fc8693c",
   "metadata": {
    "scrolled": true
   },
   "outputs": [],
   "source": [
    "import multiprocessing\n",
    "from multiprocessing.dummy import Pool as ThreadPool\n",
    "from functools import partial\n",
    "import time\n",
    "import json\n",
    "\n",
    "import subprocess\n",
    "from subprocess import PIPE, Popen\n",
    "import os, shutil  \n",
    "from tqdm import tqdm\n",
    "import re\n",
    "import requests\n",
    "import numpy as np\n",
    "\n",
    "def worker(word, i):\n",
    "    print(\"第{}个词:{}\".format(i,word))\n",
    "    \n",
    "    try:\n",
    "        our_word = word.replace(' ', '_')\n",
    "        results = word2clip[word]\n",
    "        path = word2files[word][0]\n",
    "        path = path.split(word)[0]\n",
    "        \n",
    "        params = {}\n",
    "        params['path'] = path.replace('./','../../') + word\n",
    "\n",
    "        # YOLO\n",
    "        yolo_flag = True\n",
    "        \n",
    "        try:\n",
    "            r = requests.get(url='http://127.0.0.1:5001/test', params=params) # YOLO server\n",
    "            yolo_results = json.loads(r.text)\n",
    "\n",
    "            for index,yolo_result in enumerate(yolo_results):\n",
    "                for one_yolo_result in yolo_result:\n",
    "                    if word2type[our_word] in yolo2db[one_yolo_result]:\n",
    "                        results[0][index] += 3.0 # Filter images based on score difference\n",
    "                        yolo_flag = False\n",
    "                        break\n",
    "                        \n",
    "        except Exception as e1:\n",
    "            print('{} skip yolo'.format(word))\n",
    "\n",
    "        # VGG\n",
    "        params['path'] = path.replace('./','../') + word\n",
    "        \n",
    "        if yolo_flag:\n",
    "            if db2vgg[word2type[our_word]] != []:    \n",
    "                r1 = requests.get(url='http://127.0.0.1:5000/test', params=params) # VGG server\n",
    "                vgg_results = json.loads(r1.text)\n",
    "                for index,vgg_result in enumerate(vgg_results):\n",
    "                    for one_vgg_result in vgg_result:\n",
    "                        if one_vgg_result in db2vgg[word2type[our_word]]:\n",
    "                            results[0][index] += 1.5\n",
    "                            break\n",
    "        return our_word, results[0], i\n",
    "    \n",
    "    except Exception as e:\n",
    "        results = word2clip[word]\n",
    "        print('{} error:'.format(word), e)\n",
    "        return our_word, results[0], i\n",
    "\n",
    "def collectMyResult(result):\n",
    "    word2final[result[0]] = result[1]\n",
    "    if(int(result[2]) %5000 == 0):\n",
    "        print(\"Got result {}\".format(result))\n",
    "        \n",
    "    \n",
    "def abortable_worker(func, *args, **kwargs):\n",
    "    timeout = 60\n",
    "    p = ThreadPool(1)\n",
    "    res = p.apply_async(func, args=args)\n",
    "    try:\n",
    "        out = res.get(timeout)  # Wait timeout seconds for func to complete.\n",
    "        return out\n",
    "    except multiprocessing.TimeoutError:\n",
    "        print(\"Aborting due to timeout\")\n",
    "        raise\n",
    "\n",
    "if __name__ == \"__main__\":\n",
    "    tic = time.time()\n",
    "    pool = multiprocessing.Pool(processes=3,maxtasksperchild=1)\n",
    "    \n",
    "    word2final = {} # final score\n",
    "    with open(\"./word2final2_188.json\",\"r\",encoding='utf-8') as f:\n",
    "        word2final = json.load(f)\n",
    "\n",
    "    featureClass = [[words[i], i] for i in tqdm(range(0,len(words),1))] #list of arguments\n",
    "    for f in featureClass:\n",
    "        abortable_func = partial(abortable_worker, worker, timeout=60)\n",
    "        pool.apply_async(abortable_func, args=f,callback=collectMyResult)\n",
    "    pool.close()\n",
    "    pool.join()\n",
    "    \n",
    "    print(len(word2final))\n",
    "    \n",
    "    \n",
    "    toc = time.time()\n",
    "    shijian = toc-tic\n",
    "    print(\"time consuming:\",shijian)\n",
    "\n",
    "    with open(\"./word2final.json\",\"w\",encoding='utf-8') as f:\n",
    "            json.dump(word2final,f)"
   ]
  }
 ],
 "metadata": {
  "kernelspec": {
   "display_name": "pytorch",
   "language": "python",
   "name": "pytorch"
  },
  "language_info": {
   "codemirror_mode": {
    "name": "ipython",
    "version": 3
   },
   "file_extension": ".py",
   "mimetype": "text/x-python",
   "name": "python",
   "nbconvert_exporter": "python",
   "pygments_lexer": "ipython3",
   "version": "3.8.11"
  }
 },
 "nbformat": 4,
 "nbformat_minor": 5
}
