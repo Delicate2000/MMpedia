{
 "cells": [
  {
   "cell_type": "code",
   "execution_count": null,
   "id": "21cd6a34",
   "metadata": {},
   "outputs": [],
   "source": [
    "import json\n",
    "with open(\"./word2abstract.json\",\"r\",encoding='utf-8') as f:\n",
    "        word2abstract = json.load(f)"
   ]
  },
  {
   "cell_type": "code",
   "execution_count": null,
   "id": "2b514633",
   "metadata": {},
   "outputs": [],
   "source": [
    "with open(\"./300_path_2.json\",\"r\",encoding='utf-8') as f: # key:word value: its corresponding image files dir\n",
    "    word2path = json.load(f)"
   ]
  },
  {
   "cell_type": "code",
   "execution_count": null,
   "id": "90332f73",
   "metadata": {},
   "outputs": [],
   "source": [
    "words = []\n",
    "for key in word2abstract.keys():\n",
    "    words.append(key)"
   ]
  },
  {
   "cell_type": "code",
   "execution_count": null,
   "id": "c9411036",
   "metadata": {
    "scrolled": true
   },
   "outputs": [],
   "source": [
    "#from SPARQLWrapper import SPARQLWrapper, JSON\n",
    "import multiprocessing\n",
    "from multiprocessing.dummy import Pool as ThreadPool\n",
    "from functools import partial\n",
    "import time\n",
    "import json\n",
    "\n",
    "import subprocess\n",
    "from subprocess import PIPE, Popen\n",
    "import os\n",
    "from tqdm import tqdm\n",
    "import re\n",
    "import requests\n",
    "\n",
    "process_num = 3\n",
    "wrong = []\n",
    "\n",
    "tic1 = time.time()\n",
    "def worker(entityname, i):\n",
    "    try:\n",
    "        if i % 1000 == 0:\n",
    "            print(\"{}:{}\".format(i, entityname))\n",
    "        \n",
    "        params = {'entityname': entityname}  # parameters passed to the server\n",
    "        params['text'] = word2abstract[entityname][:3000].replace('\\\\','').replace('(','').replace(')','').replace('-','') \n",
    "        params['path'] = word2path[entityname]\n",
    "            \n",
    "        if i%2 == 0: # multiple servers in case crashing\n",
    "            url = \"http://172.20.137.91:8045/test\" # url for your server\n",
    "        else:\n",
    "            url = \"http://172.20.137.91:8044/test\"\n",
    "\n",
    "        try:\n",
    "            resp = requests.get(url,params=params)\n",
    "            result = json.loads(resp.text)\n",
    "        except Exception as e:\n",
    "            print('{}',params)\n",
    "        return entityname, result, i\n",
    "    except Exception as e:\n",
    "        print('error:', e)\n",
    "        return entityname, i\n",
    "\n",
    "def collectMyResult(result):\n",
    "    try:\n",
    "        word2clip[result[0]] = result[1]['results']\n",
    "        word2files[result[0]] = result[1]['files']\n",
    "        if(int(result[2]) %5000 == 0):\n",
    "            global tic1\n",
    "            print(\"Got result {}\".format(result))\n",
    "            toc1 = time.time()\n",
    "            shijian = toc1-tic\n",
    "            print(\"耗时:\",shijian)\n",
    "            tic1 = toc1\n",
    "    except Exception as e:\n",
    "        wrong.append(result[0])\n",
    "        print('error:', e)\n",
    "\n",
    "if __name__ == \"__main__\":\n",
    "    tic = time.time()\n",
    "    pool = multiprocessing.Pool(processes=process_num,maxtasksperchild=1)\n",
    "    word2clip = {} # clip score\n",
    "    word2files = {} # corresponding images\n",
    "\n",
    "    featureClass = [[words[i], i] for i in tqdm(range(0, len(words),1))] #list of arguments\n",
    "    for f in featureClass:\n",
    "        abortable_func = partial(worker)\n",
    "        pool.apply_async(abortable_func, args=f,callback=collectMyResult)\n",
    "    pool.close()\n",
    "    pool.join()\n",
    "                                           \n",
    "    toc = time.time()\n",
    "    shijian = toc-tic\n",
    "    print(\"time consuming:\",shijian)\n",
    "\n",
    "    with open(\"./word2clip.json\",\"w\",encoding='utf-8') as f:\n",
    "        json.dump(word2clip,f)\n",
    "    \n",
    "    with open(\"./word2files.json\",\"w\",encoding='utf-8') as f:\n",
    "        json.dump(word2files,f)"
   ]
  }
 ],
 "metadata": {
  "kernelspec": {
   "display_name": "Python 3",
   "language": "python",
   "name": "python3"
  },
  "language_info": {
   "codemirror_mode": {
    "name": "ipython",
    "version": 3
   },
   "file_extension": ".py",
   "mimetype": "text/x-python",
   "name": "python",
   "nbconvert_exporter": "python",
   "pygments_lexer": "ipython3",
   "version": "3.8.8 (tags/v3.8.8:024d805, Feb 19 2021, 13:18:16) [MSC v.1928 64 bit (AMD64)]"
  },
  "vscode": {
   "interpreter": {
    "hash": "bf59f58f629c67161a6bbd93c7345cacfe400bb9f389cc542d55c09c74d40c18"
   }
  }
 },
 "nbformat": 4,
 "nbformat_minor": 5
}
